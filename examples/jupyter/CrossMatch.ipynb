{
 "cells": [
  {
   "cell_type": "markdown",
   "metadata": {},
   "source": [
    "# Cross matching of 3D data sets"
   ]
  },
  {
   "cell_type": "markdown",
   "metadata": {},
   "source": [
    "The idea is to take two different data sets, and perform a cross-match of objects between the two.\n",
    "\n",
    "Perfect cross-match\n",
    "--------\n",
    "\n",
    "In the case of a perfect cross-match, we have $a \\in A$ matches with $b \\in B$ if $a = b$. \n",
    "\n",
    "Cross-match with uncertainty\n",
    "--------\n",
    "\n",
    "Say now A and B have some uncertainty in the position of their objects, and their cross-match is subject to a definition of neighbourhood, or minimum \"distance\" between them (keep in mind, we are in the 3 dimensional space!).\n",
    "Depending on how we define the neighbourhood (that is which metric to compare two objects a priori close but not identical), the objects matching can be very different.\n",
    "\n",
    "Let's illustrate this with an example.\n",
    "\n",
    "![crossmatch_sphere](images/crossmatch_sphere.jpg)\n",
    "\n",
    "Question: Does A match with B? Does C match with D?\n",
    "--------\n",
    "\n",
    "**Using the distance to centers: **\n",
    "Let's suppose our metric is the (euclidean) distance between the centers of objects, and two points are said identical if their distance is smaller than $\\epsilon$. We have $||AB|| < \\epsilon$ and $||CD|| > \\epsilon$, therefore we would say that A matches with B, but C does not match with D.\n",
    "\n",
    "**Using the angular separation: **\n",
    "Let's suppose our metric is the angular separation between the centers of objects (at same radius), and two points are said identical if their angular separation is smaller than $\\beta_c$ . Both points have the same angular separation $\\beta < \\beta_c$, therefore we would say that A matches with B, and C matches with D.\n",
    "\n",
    "We see in this simple example that depending on the metric chosen, the results are different.\n",
    "\n",
    "Number of matched pairs\n",
    "--------\n",
    "\n",
    "Let A and B be two finite sets of points $\\{ (r, \\theta, \\phi) \\}$ with $r \\in U(0, \\infty), \\, \\theta \\in U(0, \\pi), \\, \\phi \\in U(0, 2\\pi)$, and $U(x, y)$ is the uniform distribution over [x, y].\n",
    "Let denote $x$ the cross-match between points according to the distance to centers, and $o$ the cross-match between points according to the angular separation. We have \n",
    "\n",
    "$$\\begin{align}\n",
    "\\text{card}(AxB)(r) &\\propto 1/r \\\\\n",
    "\\text{card}(AoB)(r) &\\propto cste\n",
    "\\end{align}$$\n",
    "\n",
    "Of course this scaling depends on how we sample the parameters and fill the space. Instead for example, we could have sampled $\\cos(\\theta)$ from $U(-1, 1)$, and the results would have changed. But all of that is to illustrate the fact that the scaling of the cardinal for the cross-match depends upon the metric chosen.\n",
    "\n",
    "What has been implemented in spark3D so far?\n",
    "--------\n",
    "\n",
    "So far, two sets of methods have been implemented:\n",
    "* `PixelCrossMatch`, and in particular `CrossMatchHealpixIndex` which performs the cross-match between two sets A and B according to the healpix index of the objects at a given radial position (space is partitioned in redshift shells). (angular position)\n",
    "* `CenterCrossMatch`, and in particular `CrossMatchPosition` which performs the cross-match between two sets A and B according to the distance between object centers. (distance to centers)\n",
    "\n",
    "![crossmatch_neighbours](images/crossmatch_neighbours.jpg)\n",
    "\n",
    "In this notebook, we show the use of both."
   ]
  },
  {
   "cell_type": "code",
   "execution_count": 1,
   "metadata": {},
   "outputs": [
    {
     "name": "stdout",
     "output_type": "stream",
     "text": [
      "Marking com.github.astrolabsoftware:spark-fits_2.11:0.6.0 for download\n",
      "Preparing to fetch from:\n",
      "-> file:/var/folders/my/lfvl285927q2hzk545f39sy40000gn/T/toree_add_deps5098665649624919110/\n",
      "-> https://repo1.maven.org/maven2\n",
      "-> New file at /var/folders/my/lfvl285927q2hzk545f39sy40000gn/T/toree_add_deps5098665649624919110/https/repo1.maven.org/maven2/com/github/astrolabsoftware/spark-fits_2.11/0.6.0/spark-fits_2.11-0.6.0.jar\n",
      "Marking com.github.haifengl:smile-plot:1.5.1 for download\n",
      "Preparing to fetch from:\n",
      "-> file:/var/folders/my/lfvl285927q2hzk545f39sy40000gn/T/toree_add_deps5098665649624919110/\n",
      "-> https://repo1.maven.org/maven2\n",
      "-> New file at /var/folders/my/lfvl285927q2hzk545f39sy40000gn/T/toree_add_deps5098665649624919110/https/repo1.maven.org/maven2/com/github/haifengl/smile-plot/1.5.1/smile-plot-1.5.1.jar\n",
      "Marking com.github.haifengl:smile-math:1.5.1 for download\n",
      "Preparing to fetch from:\n",
      "-> file:/var/folders/my/lfvl285927q2hzk545f39sy40000gn/T/toree_add_deps5098665649624919110/\n",
      "-> https://repo1.maven.org/maven2\n",
      "-> New file at /var/folders/my/lfvl285927q2hzk545f39sy40000gn/T/toree_add_deps5098665649624919110/https/repo1.maven.org/maven2/com/github/haifengl/smile-math/1.5.1/smile-math-1.5.1.jar\n",
      "Marking com.github.haifengl:smile-core:1.5.1 for download\n",
      "Preparing to fetch from:\n",
      "-> file:/var/folders/my/lfvl285927q2hzk545f39sy40000gn/T/toree_add_deps5098665649624919110/\n",
      "-> https://repo1.maven.org/maven2\n",
      "-> New file at /var/folders/my/lfvl285927q2hzk545f39sy40000gn/T/toree_add_deps5098665649624919110/https/repo1.maven.org/maven2/com/github/haifengl/smile-core/1.5.1/smile-core-1.5.1.jar\n",
      "Marking com.github.haifengl:smile-scala_2.11:1.5.1 for download\n",
      "Preparing to fetch from:\n",
      "-> file:/var/folders/my/lfvl285927q2hzk545f39sy40000gn/T/toree_add_deps5098665649624919110/\n",
      "-> https://repo1.maven.org/maven2\n",
      "-> New file at /var/folders/my/lfvl285927q2hzk545f39sy40000gn/T/toree_add_deps5098665649624919110/https/repo1.maven.org/maven2/com/github/haifengl/smile-scala_2.11/1.5.1/smile-scala_2.11-1.5.1.jar\n",
      "Marking org.swinglabs:swingx:1.6.1 for download\n",
      "Preparing to fetch from:\n",
      "-> file:/var/folders/my/lfvl285927q2hzk545f39sy40000gn/T/toree_add_deps5098665649624919110/\n",
      "-> https://repo1.maven.org/maven2\n",
      "-> New file at /var/folders/my/lfvl285927q2hzk545f39sy40000gn/T/toree_add_deps5098665649624919110/https/repo1.maven.org/maven2/org/swinglabs/swingx/1.6.1/swingx-1.6.1.jar\n",
      "Starting download from file:/Users/julien/Documents/workspace/myrepos/spark3D/target/scala-2.11/spark3d_2.11-0.1.5.jar\n",
      "Finished download of spark3d_2.11-0.1.5.jar\n",
      "Starting download from file:/Users/julien/Documents/workspace/myrepos/spark3D/lib/jhealpix.jar\n",
      "Finished download of jhealpix.jar\n"
     ]
    }
   ],
   "source": [
    "// Package to read data from FITS file\n",
    "%AddDeps com.github.astrolabsoftware spark-fits_2.11 0.6.0\n",
    "\n",
    "// Smile provides visualisation tools\n",
    "%AddDeps com.github.haifengl smile-plot 1.5.1\n",
    "%AddDeps com.github.haifengl smile-math 1.5.1\n",
    "%AddDeps com.github.haifengl smile-core 1.5.1\n",
    "%AddDeps com.github.haifengl smile-scala_2.11 1.5.1\n",
    "\n",
    "// Contains extensions to the Swing GUI toolkit\n",
    "%AddDeps org.swinglabs swingx 1.6.1\n",
    "\n",
    "// Add the spark3d JAR. To generate it, run `sbt ++2.11.8 package` at the root of the package\n",
    "%AddJar file:/Users/julien/Documents/workspace/myrepos/spark3D/target/scala-2.11/spark3d_2.11-0.2.2.jar\n",
    "\n",
    "// Add healpix JAR\n",
    "%AddJar file:/Users/julien/Documents/workspace/myrepos/spark3D/lib/jhealpix.jar"
   ]
  },
  {
   "cell_type": "markdown",
   "metadata": {},
   "source": [
    "# From raw data RDD to Point3D RDD"
   ]
  },
  {
   "cell_type": "markdown",
   "metadata": {},
   "source": [
    "Load data from the test files provided in the spark3d repo.\n",
    "Our raw data contains points with 3D coordinates (spherical: r, theta, phi) sampled from uniform distributions. Let's transform it into a Point3D RDD"
   ]
  },
  {
   "cell_type": "code",
   "execution_count": 4,
   "metadata": {},
   "outputs": [],
   "source": [
    "import com.astrolabsoftware.spark3d.spatial3DRDD._\n",
    "import org.apache.spark.sql.SparkSession\n",
    "val spark = SparkSession.builder().appName(\"Xmatch\").getOrCreate()\n",
    "\n",
    "val fnA = \"../../src/test/resources/astro_obs.fits\"\n",
    "val fnB = \"../../src/test/resources/astro_obs2.fits\"\n",
    "val options = Map(\"hdu\" -> \"1\")\n",
    "val columns = \"Z_COSMO,RA,DEC\"\n",
    "val spherical = true\n",
    "\n",
    "// Load the data\n",
    "val pointRDDA = new Point3DRDD(spark, fnA, columns, spherical, \"fits\", options)\n",
    "val pointRDDB = new Point3DRDD(spark, fnB, columns, spherical, \"fits\", options)"
   ]
  },
  {
   "cell_type": "markdown",
   "metadata": {},
   "source": [
    "# Repartitioning of the space"
   ]
  },
  {
   "cell_type": "markdown",
   "metadata": {},
   "source": [
    "By default, the pointRDD is partitioned randomly (i.e. Spark made partition regardless to the content of the file).\n",
    "Let's repartition our data based on the distance to the center (Onion Space). In addition, to ease the cross-match between the two data sets, let's partition A and B the same way."
   ]
  },
  {
   "cell_type": "code",
   "execution_count": 5,
   "metadata": {},
   "outputs": [],
   "source": [
    "import com.astrolabsoftware.spark3d.utils.GridType\n",
    "import com.astrolabsoftware.spark3d.spatialPartitioning.SpatialPartitioner\n",
    "\n",
    "// As we are in local mode, and the file is very small, the RDD pointRDD has only 1 partition.\n",
    "// For the sake of this example, let's increase the number of partition to 100.\n",
    "val pointRDD_partA = pointRDDA.spatialPartitioning(GridType.LINEARONIONGRID, 100).cache()\n",
    "// Get the partitioner of A\n",
    "val partitionerA = pointRDD_partA.partitioner.get.asInstanceOf[SpatialPartitioner]\n",
    "// Repartition B as A\n",
    "val pointRDD_partB = pointRDDB.spatialPartitioning(partitionerA).cache()"
   ]
  },
  {
   "cell_type": "markdown",
   "metadata": {},
   "source": [
    "# Cross matching using Healpix index"
   ]
  },
  {
   "cell_type": "markdown",
   "metadata": {},
   "source": [
    "Cross match 2 RDD based on the healpix index of geometry center.\n",
    "You have to choice to return:\n",
    "* (1) Elements of (A, B) matching (returnType=\"AB\")\n",
    "* (2) Elements of A matching B (returnType=\"A\")\n",
    "* (3) Elements of B matching A (returnType=\"B\")\n",
    "* (4) Healpix pixel indices matching (returnType=\"healpix\")\n",
    "\n",
    "Which one you should choose? That depends on what you need:\n",
    "(1) gives you all elements but is slow.\n",
    "(2) & (3) give you all elements only in one side but is faster.\n",
    "(4) gives you only healpix center but is even faster."
   ]
  },
  {
   "cell_type": "code",
   "execution_count": 6,
   "metadata": {},
   "outputs": [
    {
     "name": "stdout",
     "output_type": "stream",
     "text": [
      "(Keeping only elements from A with counterpart in B: ,1337, points)             \n",
      "(Keeping only elements from B with counterpart in A: ,1278, points)\n",
      "(Keeping all elements with counterparts in both A and B: ,1337, points)         \n"
     ]
    }
   ],
   "source": [
    "import com.astrolabsoftware.spark3d.spatialOperator.PixelCrossMatch\n",
    "\n",
    "// Shell resolution\n",
    "val nside = 512\n",
    "// Keeping only elements from A with counterpart in B\n",
    "val xMatchA = PixelCrossMatch.CrossMatchHealpixIndex(pointRDD_partA, pointRDD_partB, nside, \"A\")\n",
    "// Keeping only elements from B with counterpart in A\n",
    "val xMatchB = PixelCrossMatch.CrossMatchHealpixIndex(pointRDD_partA, pointRDD_partB, nside, \"B\")\n",
    "// Keeping all elements with counterparts in both A and B\n",
    "val xMatchAB = PixelCrossMatch.CrossMatchHealpixIndex(pointRDD_partA, pointRDD_partB, nside, \"AB\")\n",
    "\n",
    "println(\"Keeping only elements from A with counterpart in B: \", xMatchA.count(), \" points\")\n",
    "println(\"Keeping only elements from B with counterpart in A: \", xMatchB.count(), \" points\")\n",
    "println(\"Keeping all elements with counterparts in both A and B: \", xMatchAB.count(), \" points\")"
   ]
  },
  {
   "cell_type": "markdown",
   "metadata": {},
   "source": [
    "# Cross matching using distance between object centers"
   ]
  },
  {
   "cell_type": "markdown",
   "metadata": {},
   "source": [
    "Cross match 2 RDD based on based on the object centers.\n",
    "You have to choice to return:\n",
    "* (1) Elements of (A, B) matching (returnType=\"AB\")\n",
    "* (2) Elements of A matching B (returnType=\"A\")\n",
    "* (3) Elements of B matching A (returnType=\"B\")\n",
    "\n",
    "Which one you should choose? That depends on what you need:\n",
    "(1) gives you all elements but is slow.\n",
    "(2) & (3) give you all elements only in one side but is faster."
   ]
  },
  {
   "cell_type": "code",
   "execution_count": 7,
   "metadata": {},
   "outputs": [
    {
     "name": "stdout",
     "output_type": "stream",
     "text": [
      "(Keeping only elements from A with counterpart in B: ,695, points)\n",
      "(Keeping only elements from B with counterpart in A: ,497, points)\n",
      "(Keeping all elements with counterparts in both A and B: ,6121, points)\n"
     ]
    }
   ],
   "source": [
    "import com.astrolabsoftware.spark3d.spatialOperator.CenterCrossMatch\n",
    "\n",
    "// Distance threshold for the match\n",
    "val epsilon = 0.004\n",
    "// Keeping only elements from A with counterpart in B\n",
    "val CxMatchA = CenterCrossMatch.CrossMatchCenter(pointRDD_partA, pointRDD_partB, epsilon, \"A\")\n",
    "// Keeping only elements from B with counterpart in A\n",
    "val CxMatchB = CenterCrossMatch.CrossMatchCenter(pointRDD_partA, pointRDD_partB, epsilon, \"B\")\n",
    "// Keeping all elements with counterparts in both A and B\n",
    "val CxMatchAB = CenterCrossMatch.CrossMatchCenter(pointRDD_partA, pointRDD_partB, epsilon, \"AB\")\n",
    "\n",
    "println(\"Keeping only elements from A with counterpart in B: \", CxMatchA.count(), \" points\")\n",
    "println(\"Keeping only elements from B with counterpart in A: \", CxMatchB.count(), \" points\")\n",
    "println(\"Keeping all elements with counterparts in both A and B: \", CxMatchAB.count(), \" points\")"
   ]
  },
  {
   "cell_type": "markdown",
   "metadata": {},
   "source": [
    "# Display the results"
   ]
  },
  {
   "cell_type": "code",
   "execution_count": 8,
   "metadata": {},
   "outputs": [],
   "source": [
    "import smile.plot._\n",
    "import java.awt.Color\n",
    "import java.awt.{GridLayout, Dimension}\n",
    "\n",
    "import javax.swing.JFrame\n",
    "import javax.swing.JPanel\n",
    "\n",
    "import com.astrolabsoftware.spark3d.utils.Utils.sphericalToCartesian\n",
    "import org.apache.spark.rdd.RDD\n",
    "import com.astrolabsoftware.spark3d.geometryObjects._\n",
    "\n",
    "\n",
    "/** Define palette of colors */\n",
    "def colors : Array[java.awt.Color] = {\n",
    "    Array(\n",
    "        Color.BLACK, Color.RED, Color.GREEN, Color.BLUE,\n",
    "        Color.ORANGE, Color.YELLOW, Color.DARK_GRAY, Color.PINK,\n",
    "        Color.MAGENTA, Color.CYAN)\n",
    "}\n",
    "\n",
    "/** Define markers */\n",
    "def markers : Array[Char] = {\n",
    "    val strings = Array(\n",
    "        \"o\", \"s\", \"x\", \"+\", \"@\", \"q\", \n",
    "        \"-\", \"|\", \"O\", \"S\", \"#\", \"Q\", \".\"\n",
    "    )\n",
    "    strings.map(x => x.toCharArray).flatten\n",
    "    \n",
    "}\n",
    "\n",
    "/** \n",
    "  * format the data for smile.\n",
    "  * The data for ScatterPlot must be Array[Array[Double]] (=Array[point3d])\n",
    "  * We add one more dimension which is the partition.\n",
    "  *\n",
    "  * @param rdd : (RDD[Point3D])\n",
    "  *   RDD whose elements are Point3D instances.\n",
    "  * @return (Array[Array[Array[Double]]]) data as partitions -> points -> point -> coordinate \n",
    "  * \n",
    "  */\n",
    "def format_data_for_smile(rdd: RDD[Point3D]) : Array[Array[Array[Double]]] = {\n",
    "    rdd.map(\n",
    "        x=> sphericalToCartesian(x).center.getCoordinate.toArray)\n",
    "    .glom.collect().toArray\n",
    "}\n",
    "\n",
    "/** \n",
    "  * Plot 3D data sets.\n",
    "  * \n",
    "  * @param display : (String)\n",
    "  *   Either show or save. If save, extension will be given in the outname.\n",
    "  * @param rddArr : (Array(RDD[Point3D]))\n",
    "  *   Array containing RDD for data sets X whose elements are instances of Point3D.\n",
    "  * part : (Int)\n",
    "  *   Partition index to plot.\n",
    "  * @param outname : (String)\n",
    "  *   If save mode, name (incl. extenstion) for the out file.\n",
    "  * @param title : (String)\n",
    "  *   Title of the window.\n",
    "  *\n",
    "  */\n",
    "def MyScatterPlotCross(\n",
    "    display: String, rddArr: Array[RDD[Point3D]], \n",
    "    part: Int, outname: String, title: String) : Unit = {\n",
    "    \n",
    "    // Re-arange the data for plotting\n",
    "    val dataInit = format_data_for_smile(rddArr(0))\n",
    "    \n",
    "    // Plot the results\n",
    "    val window = ScatterPlot.plot(dataInit(part), markers(0), colors(0))\n",
    "    \n",
    "    for (pos <- 1 to rddArr.size - 1) {\n",
    "      val dataOther = format_data_for_smile(rddArr(pos))\n",
    "      window.points(dataOther(part), markers(pos), colors(pos))   \n",
    "    }\n",
    "    \n",
    "    display match {\n",
    "      case \"show\" => {\n",
    "        val partFrame = new JFrame(title)\n",
    "        partFrame.setLocationRelativeTo(null)\n",
    "        partFrame.getContentPane().add(window)\n",
    "        partFrame.setVisible(true)\n",
    "        partFrame.setSize(new Dimension(500, 500))\n",
    "      }\n",
    "      case \"save\" => {\n",
    "        val partHeadless = new Headless(window);\n",
    "        partHeadless.pack();\n",
    "        partHeadless.setVisible(true);\n",
    "        partHeadless.setSize(new Dimension(500, 500))\n",
    "        window.save(new java.io.File(outname))\n",
    "      }\n",
    "      case _ => throw new AssertionError(\"\"\"\n",
    "        I do not understand the kind of display you want.\n",
    "        Choose between \"show\" and \"save\".\n",
    "        \"\"\")\n",
    "    }\n",
    "}\n",
    "\n",
    "// Set to \"show\" or \"save\"\n",
    "val display = \"show\"\n",
    "val partition = 5\n",
    "\n",
    "// Display the result for healpix\n",
    "MyScatterPlotCross(display, Array(pointRDD_partA, pointRDD_partB, \n",
    "                    xMatchA.asInstanceOf[RDD[Point3D]]), partition, \n",
    "                    \"crossmatchAxB.png\", \"Healpix Cross match (A, B, AxB)\")\n",
    "MyScatterPlotCross(display, Array(xMatchA.asInstanceOf[RDD[Point3D]], \n",
    "                     xMatchB.asInstanceOf[RDD[Point3D]]), partition,\n",
    "                     \"crossmatchAxBOnly.png\", \"Healpix Cross match (AxB, BxA)\")\n",
    "\n",
    "// Display the result for object centers\n",
    "MyScatterPlotCross(display, Array(pointRDD_partA, pointRDD_partB, \n",
    "                    CxMatchA.asInstanceOf[RDD[Point3D]]), partition, \n",
    "                    \"CcrossmatchAxB.png\", \"Center Cross match (A, B, AxB)\")\n",
    "MyScatterPlotCross(display, Array(CxMatchA.asInstanceOf[RDD[Point3D]], \n",
    "                     CxMatchB.asInstanceOf[RDD[Point3D]]), partition,\n",
    "                     \"CcrossmatchAxBOnly.png\", \"Center Cross match (AxB, BxA)\")"
   ]
  },
  {
   "cell_type": "markdown",
   "metadata": {},
   "source": [
    "Here is a plot for Partition #5\n",
    "\n",
    "Cross match based on angular separation (A, B, AxB)    |Cross match based on angular separation (AxB, BxA)   \n",
    ":-------------------------:|:-------------------------:\n",
    "![title](images/crossmatchAxB.png)|![title](images/crossmatchAxBOnly.png)\n",
    "\n",
    "Cross match based on center distance (A, B, BxA)    |Cross match based on center distance (AxB, BxA)   \n",
    ":-------------------------:|:-------------------------:\n",
    "![title](images/CcrossmatchAxB.png)|![title](images/CcrossmatchAxBOnly.png)"
   ]
  },
  {
   "cell_type": "code",
   "execution_count": 9,
   "metadata": {},
   "outputs": [],
   "source": [
    "val display = \"show\"\n",
    "\n",
    "/** Define line styles */\n",
    "def lines : Array[Line.Style] = {\n",
    "    Array(Line.Style.SOLID, Line.Style.SOLID, \n",
    "          Line.Style.SOLID, Line.Style.SOLID, \n",
    "          Line.Style.SOLID, Line.Style.SOLID)\n",
    "}\n",
    "\n",
    "/** \n",
    "  * Plot the number of match per partition.\n",
    "  * \n",
    "  * @param display : (String)\n",
    "  *   Either show or save. If save, extension will be given in the outname.\n",
    "  * @param rddArr : (Array(RDD[Point3D]))\n",
    "  *   Array containing RDD from the Xmatch.\n",
    "  * part : (Int)\n",
    "  *   Partition index to plot.\n",
    "  * @param outname : (String)\n",
    "  *   If save mode, name (incl. extenstion) for the out file.\n",
    "  * @param title : (String)\n",
    "  *   Title of the window.\n",
    "  *\n",
    "  */\n",
    "def plotNumberOfMatch(\n",
    "    display: String, rddArr: Array[RDD[Point3D]], \n",
    "    part: Int, outname: String, title: String) : Unit = {\n",
    "    \n",
    "    // Re-arange the data for plotting\n",
    "    val numberOfMatchInit = rddArr(0).mapPartitions(\n",
    "      iter => Array(iter.size.toDouble).iterator, true).collect()\n",
    "    \n",
    "    // Plot the results\n",
    "    val window = LinePlot.plot(numberOfMatchInit, lines(0), colors(0))\n",
    "    \n",
    "    for (pos <- 1 to rddArr.size - 1) {\n",
    "      val numberOfMatchOther = rddArr(pos).mapPartitions(\n",
    "        iter => Array(iter.size.toDouble).iterator, true).collect()\n",
    "      window.line(numberOfMatchOther, lines(pos), colors(pos))\n",
    "    }\n",
    "    \n",
    "    window.setAxisLabels(\n",
    "        \"partition index (sorted by increasing r)\", \n",
    "        \"Number of pairs\")\n",
    "    \n",
    "    display match {\n",
    "      case \"show\" => {\n",
    "        val partFrame = new JFrame(title)\n",
    "        partFrame.setLocationRelativeTo(null)\n",
    "        partFrame.getContentPane().add(window)\n",
    "        partFrame.setVisible(true)\n",
    "        partFrame.setSize(new Dimension(500, 500))\n",
    "      }\n",
    "      case \"save\" => {\n",
    "        val partHeadless = new Headless(window);\n",
    "        partHeadless.pack();\n",
    "        partHeadless.setVisible(true);\n",
    "        partHeadless.setSize(new Dimension(500, 500))\n",
    "        window.save(new java.io.File(outname))\n",
    "      }\n",
    "      case _ => throw new AssertionError(\"\"\"\n",
    "        I do not understand the kind of display you want.\n",
    "        Choose between \"show\" and \"save\".\n",
    "        \"\"\")\n",
    "    }\n",
    "}\n",
    "\n",
    "plotNumberOfMatch(display, \n",
    "                  Array(xMatchA.asInstanceOf[RDD[Point3D]], CxMatchA.asInstanceOf[RDD[Point3D]]), \n",
    "                  partition, \"line.png\", \"Number of match per partition (black=angular, red=center distance)\")"
   ]
  },
  {
   "cell_type": "markdown",
   "metadata": {},
   "source": [
    "Number of match per partition (black=angular, red=center distance)\n",
    "![title](images/line.png)"
   ]
  },
  {
   "cell_type": "code",
   "execution_count": null,
   "metadata": {
    "collapsed": true
   },
   "outputs": [],
   "source": []
  }
 ],
 "metadata": {
  "kernelspec": {
   "display_name": "Apache Toree - Scala",
   "language": "scala",
   "name": "apache_toree_scala"
  },
  "language_info": {
   "file_extension": ".scala",
   "name": "scala",
   "version": "2.11.8"
  }
 },
 "nbformat": 4,
 "nbformat_minor": 2
}
